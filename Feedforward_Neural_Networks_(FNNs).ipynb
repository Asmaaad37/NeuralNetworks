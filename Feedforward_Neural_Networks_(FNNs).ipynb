{
  "nbformat": 4,
  "nbformat_minor": 0,
  "metadata": {
    "colab": {
      "provenance": [],
      "authorship_tag": "ABX9TyN7b98anA+yr8RnoobwaQHf",
      "include_colab_link": true
    },
    "kernelspec": {
      "name": "python3",
      "display_name": "Python 3"
    },
    "language_info": {
      "name": "python"
    }
  },
  "cells": [
    {
      "cell_type": "markdown",
      "metadata": {
        "id": "view-in-github",
        "colab_type": "text"
      },
      "source": [
        "<a href=\"https://colab.research.google.com/github/Asmaaad37/NeuralNetworks/blob/main/Feedforward_Neural_Networks_(FNNs).ipynb\" target=\"_parent\"><img src=\"https://colab.research.google.com/assets/colab-badge.svg\" alt=\"Open In Colab\"/></a>"
      ]
    },
    {
      "cell_type": "markdown",
      "source": [
        "# Building and Training a Feedforward Neural Network for Language Modeling\n",
        "\n",
        "* **Tokenization & Indexing:** Converting text into numerical representations.\n",
        "* **Embedding Layers:** Mapping words to dense vector representations for efficient learning.\n",
        "* **Context-Target Pair Generation (N-grams):** Structuring training data for sequence prediction.\n",
        "* **Multi-Class Neural Network:** Designing a model to predict the next word in a sequence.\n",
        "\n"
      ],
      "metadata": {
        "id": "EEhiGEBKJS-W"
      }
    },
    {
      "cell_type": "code",
      "execution_count": 61,
      "metadata": {
        "colab": {
          "base_uri": "https://localhost:8080/"
        },
        "collapsed": true,
        "id": "s3uD_3F5JPBM",
        "outputId": "71bcc30d-629b-4c05-a806-40be2e58298a"
      },
      "outputs": [
        {
          "output_type": "stream",
          "name": "stdout",
          "text": [
            "/bin/bash: line 1: 2: No such file or directory\n",
            "Requirement already satisfied: nltk in /usr/local/lib/python3.12/dist-packages (3.9.1)\n",
            "Requirement already satisfied: click in /usr/local/lib/python3.12/dist-packages (from nltk) (8.2.1)\n",
            "Requirement already satisfied: joblib in /usr/local/lib/python3.12/dist-packages (from nltk) (1.5.2)\n",
            "Requirement already satisfied: regex>=2021.8.3 in /usr/local/lib/python3.12/dist-packages (from nltk) (2024.11.6)\n",
            "Requirement already satisfied: tqdm in /usr/local/lib/python3.12/dist-packages (from nltk) (4.67.1)\n",
            "Requirement already satisfied: torch==2.2.2 in /usr/local/lib/python3.12/dist-packages (2.2.2)\n",
            "Requirement already satisfied: filelock in /usr/local/lib/python3.12/dist-packages (from torch==2.2.2) (3.19.1)\n",
            "Requirement already satisfied: typing-extensions>=4.8.0 in /usr/local/lib/python3.12/dist-packages (from torch==2.2.2) (4.15.0)\n",
            "Requirement already satisfied: sympy in /usr/local/lib/python3.12/dist-packages (from torch==2.2.2) (1.13.1)\n",
            "Requirement already satisfied: networkx in /usr/local/lib/python3.12/dist-packages (from torch==2.2.2) (3.5)\n",
            "Requirement already satisfied: jinja2 in /usr/local/lib/python3.12/dist-packages (from torch==2.2.2) (3.1.6)\n",
            "Requirement already satisfied: fsspec in /usr/local/lib/python3.12/dist-packages (from torch==2.2.2) (2025.3.0)\n",
            "Requirement already satisfied: nvidia-cuda-nvrtc-cu12==12.1.105 in /usr/local/lib/python3.12/dist-packages (from torch==2.2.2) (12.1.105)\n",
            "Requirement already satisfied: nvidia-cuda-runtime-cu12==12.1.105 in /usr/local/lib/python3.12/dist-packages (from torch==2.2.2) (12.1.105)\n",
            "Requirement already satisfied: nvidia-cuda-cupti-cu12==12.1.105 in /usr/local/lib/python3.12/dist-packages (from torch==2.2.2) (12.1.105)\n",
            "Requirement already satisfied: nvidia-cudnn-cu12==8.9.2.26 in /usr/local/lib/python3.12/dist-packages (from torch==2.2.2) (8.9.2.26)\n",
            "Requirement already satisfied: nvidia-cublas-cu12==12.1.3.1 in /usr/local/lib/python3.12/dist-packages (from torch==2.2.2) (12.1.3.1)\n",
            "Requirement already satisfied: nvidia-cufft-cu12==11.0.2.54 in /usr/local/lib/python3.12/dist-packages (from torch==2.2.2) (11.0.2.54)\n",
            "Requirement already satisfied: nvidia-curand-cu12==10.3.2.106 in /usr/local/lib/python3.12/dist-packages (from torch==2.2.2) (10.3.2.106)\n",
            "Requirement already satisfied: nvidia-cusolver-cu12==11.4.5.107 in /usr/local/lib/python3.12/dist-packages (from torch==2.2.2) (11.4.5.107)\n",
            "Requirement already satisfied: nvidia-cusparse-cu12==12.1.0.106 in /usr/local/lib/python3.12/dist-packages (from torch==2.2.2) (12.1.0.106)\n",
            "Requirement already satisfied: nvidia-nccl-cu12==2.19.3 in /usr/local/lib/python3.12/dist-packages (from torch==2.2.2) (2.19.3)\n",
            "Requirement already satisfied: nvidia-nvtx-cu12==12.1.105 in /usr/local/lib/python3.12/dist-packages (from torch==2.2.2) (12.1.105)\n",
            "Requirement already satisfied: nvidia-nvjitlink-cu12 in /usr/local/lib/python3.12/dist-packages (from nvidia-cusolver-cu12==11.4.5.107->torch==2.2.2) (12.4.127)\n",
            "Requirement already satisfied: MarkupSafe>=2.0 in /usr/local/lib/python3.12/dist-packages (from jinja2->torch==2.2.2) (3.0.2)\n",
            "Requirement already satisfied: mpmath<1.4,>=1.1.0 in /usr/local/lib/python3.12/dist-packages (from sympy->torch==2.2.2) (1.3.0)\n",
            "Requirement already satisfied: torchtext==0.17.2 in /usr/local/lib/python3.12/dist-packages (0.17.2)\n",
            "Requirement already satisfied: tqdm in /usr/local/lib/python3.12/dist-packages (from torchtext==0.17.2) (4.67.1)\n",
            "Requirement already satisfied: requests in /usr/local/lib/python3.12/dist-packages (from torchtext==0.17.2) (2.32.4)\n",
            "Requirement already satisfied: torch==2.2.2 in /usr/local/lib/python3.12/dist-packages (from torchtext==0.17.2) (2.2.2)\n",
            "Requirement already satisfied: numpy in /usr/local/lib/python3.12/dist-packages (from torchtext==0.17.2) (2.0.2)\n",
            "Requirement already satisfied: filelock in /usr/local/lib/python3.12/dist-packages (from torch==2.2.2->torchtext==0.17.2) (3.19.1)\n",
            "Requirement already satisfied: typing-extensions>=4.8.0 in /usr/local/lib/python3.12/dist-packages (from torch==2.2.2->torchtext==0.17.2) (4.15.0)\n",
            "Requirement already satisfied: sympy in /usr/local/lib/python3.12/dist-packages (from torch==2.2.2->torchtext==0.17.2) (1.13.1)\n",
            "Requirement already satisfied: networkx in /usr/local/lib/python3.12/dist-packages (from torch==2.2.2->torchtext==0.17.2) (3.5)\n",
            "Requirement already satisfied: jinja2 in /usr/local/lib/python3.12/dist-packages (from torch==2.2.2->torchtext==0.17.2) (3.1.6)\n",
            "Requirement already satisfied: fsspec in /usr/local/lib/python3.12/dist-packages (from torch==2.2.2->torchtext==0.17.2) (2025.3.0)\n",
            "Requirement already satisfied: nvidia-cuda-nvrtc-cu12==12.1.105 in /usr/local/lib/python3.12/dist-packages (from torch==2.2.2->torchtext==0.17.2) (12.1.105)\n",
            "Requirement already satisfied: nvidia-cuda-runtime-cu12==12.1.105 in /usr/local/lib/python3.12/dist-packages (from torch==2.2.2->torchtext==0.17.2) (12.1.105)\n",
            "Requirement already satisfied: nvidia-cuda-cupti-cu12==12.1.105 in /usr/local/lib/python3.12/dist-packages (from torch==2.2.2->torchtext==0.17.2) (12.1.105)\n",
            "Requirement already satisfied: nvidia-cudnn-cu12==8.9.2.26 in /usr/local/lib/python3.12/dist-packages (from torch==2.2.2->torchtext==0.17.2) (8.9.2.26)\n",
            "Requirement already satisfied: nvidia-cublas-cu12==12.1.3.1 in /usr/local/lib/python3.12/dist-packages (from torch==2.2.2->torchtext==0.17.2) (12.1.3.1)\n",
            "Requirement already satisfied: nvidia-cufft-cu12==11.0.2.54 in /usr/local/lib/python3.12/dist-packages (from torch==2.2.2->torchtext==0.17.2) (11.0.2.54)\n",
            "Requirement already satisfied: nvidia-curand-cu12==10.3.2.106 in /usr/local/lib/python3.12/dist-packages (from torch==2.2.2->torchtext==0.17.2) (10.3.2.106)\n",
            "Requirement already satisfied: nvidia-cusolver-cu12==11.4.5.107 in /usr/local/lib/python3.12/dist-packages (from torch==2.2.2->torchtext==0.17.2) (11.4.5.107)\n",
            "Requirement already satisfied: nvidia-cusparse-cu12==12.1.0.106 in /usr/local/lib/python3.12/dist-packages (from torch==2.2.2->torchtext==0.17.2) (12.1.0.106)\n",
            "Requirement already satisfied: nvidia-nccl-cu12==2.19.3 in /usr/local/lib/python3.12/dist-packages (from torch==2.2.2->torchtext==0.17.2) (2.19.3)\n",
            "Requirement already satisfied: nvidia-nvtx-cu12==12.1.105 in /usr/local/lib/python3.12/dist-packages (from torch==2.2.2->torchtext==0.17.2) (12.1.105)\n",
            "Requirement already satisfied: nvidia-nvjitlink-cu12 in /usr/local/lib/python3.12/dist-packages (from nvidia-cusolver-cu12==11.4.5.107->torch==2.2.2->torchtext==0.17.2) (12.4.127)\n",
            "Requirement already satisfied: charset_normalizer<4,>=2 in /usr/local/lib/python3.12/dist-packages (from requests->torchtext==0.17.2) (3.4.3)\n",
            "Requirement already satisfied: idna<4,>=2.5 in /usr/local/lib/python3.12/dist-packages (from requests->torchtext==0.17.2) (3.10)\n",
            "Requirement already satisfied: urllib3<3,>=1.21.1 in /usr/local/lib/python3.12/dist-packages (from requests->torchtext==0.17.2) (2.5.0)\n",
            "Requirement already satisfied: certifi>=2017.4.17 in /usr/local/lib/python3.12/dist-packages (from requests->torchtext==0.17.2) (2025.8.3)\n",
            "Requirement already satisfied: MarkupSafe>=2.0 in /usr/local/lib/python3.12/dist-packages (from jinja2->torch==2.2.2->torchtext==0.17.2) (3.0.2)\n",
            "Requirement already satisfied: mpmath<1.4,>=1.1.0 in /usr/local/lib/python3.12/dist-packages (from sympy->torch==2.2.2->torchtext==0.17.2) (1.3.0)\n",
            "Requirement already satisfied: torchvision==0.17.2 in /usr/local/lib/python3.12/dist-packages (0.17.2)\n",
            "Requirement already satisfied: numpy in /usr/local/lib/python3.12/dist-packages (from torchvision==0.17.2) (2.0.2)\n",
            "Requirement already satisfied: torch==2.2.2 in /usr/local/lib/python3.12/dist-packages (from torchvision==0.17.2) (2.2.2)\n",
            "Requirement already satisfied: pillow!=8.3.*,>=5.3.0 in /usr/local/lib/python3.12/dist-packages (from torchvision==0.17.2) (11.3.0)\n",
            "Requirement already satisfied: filelock in /usr/local/lib/python3.12/dist-packages (from torch==2.2.2->torchvision==0.17.2) (3.19.1)\n",
            "Requirement already satisfied: typing-extensions>=4.8.0 in /usr/local/lib/python3.12/dist-packages (from torch==2.2.2->torchvision==0.17.2) (4.15.0)\n",
            "Requirement already satisfied: sympy in /usr/local/lib/python3.12/dist-packages (from torch==2.2.2->torchvision==0.17.2) (1.13.1)\n",
            "Requirement already satisfied: networkx in /usr/local/lib/python3.12/dist-packages (from torch==2.2.2->torchvision==0.17.2) (3.5)\n",
            "Requirement already satisfied: jinja2 in /usr/local/lib/python3.12/dist-packages (from torch==2.2.2->torchvision==0.17.2) (3.1.6)\n",
            "Requirement already satisfied: fsspec in /usr/local/lib/python3.12/dist-packages (from torch==2.2.2->torchvision==0.17.2) (2025.3.0)\n",
            "Requirement already satisfied: nvidia-cuda-nvrtc-cu12==12.1.105 in /usr/local/lib/python3.12/dist-packages (from torch==2.2.2->torchvision==0.17.2) (12.1.105)\n",
            "Requirement already satisfied: nvidia-cuda-runtime-cu12==12.1.105 in /usr/local/lib/python3.12/dist-packages (from torch==2.2.2->torchvision==0.17.2) (12.1.105)\n",
            "Requirement already satisfied: nvidia-cuda-cupti-cu12==12.1.105 in /usr/local/lib/python3.12/dist-packages (from torch==2.2.2->torchvision==0.17.2) (12.1.105)\n",
            "Requirement already satisfied: nvidia-cudnn-cu12==8.9.2.26 in /usr/local/lib/python3.12/dist-packages (from torch==2.2.2->torchvision==0.17.2) (8.9.2.26)\n",
            "Requirement already satisfied: nvidia-cublas-cu12==12.1.3.1 in /usr/local/lib/python3.12/dist-packages (from torch==2.2.2->torchvision==0.17.2) (12.1.3.1)\n",
            "Requirement already satisfied: nvidia-cufft-cu12==11.0.2.54 in /usr/local/lib/python3.12/dist-packages (from torch==2.2.2->torchvision==0.17.2) (11.0.2.54)\n",
            "Requirement already satisfied: nvidia-curand-cu12==10.3.2.106 in /usr/local/lib/python3.12/dist-packages (from torch==2.2.2->torchvision==0.17.2) (10.3.2.106)\n",
            "Requirement already satisfied: nvidia-cusolver-cu12==11.4.5.107 in /usr/local/lib/python3.12/dist-packages (from torch==2.2.2->torchvision==0.17.2) (11.4.5.107)\n",
            "Requirement already satisfied: nvidia-cusparse-cu12==12.1.0.106 in /usr/local/lib/python3.12/dist-packages (from torch==2.2.2->torchvision==0.17.2) (12.1.0.106)\n",
            "Requirement already satisfied: nvidia-nccl-cu12==2.19.3 in /usr/local/lib/python3.12/dist-packages (from torch==2.2.2->torchvision==0.17.2) (2.19.3)\n",
            "Requirement already satisfied: nvidia-nvtx-cu12==12.1.105 in /usr/local/lib/python3.12/dist-packages (from torch==2.2.2->torchvision==0.17.2) (12.1.105)\n",
            "Requirement already satisfied: nvidia-nvjitlink-cu12 in /usr/local/lib/python3.12/dist-packages (from nvidia-cusolver-cu12==11.4.5.107->torch==2.2.2->torchvision==0.17.2) (12.4.127)\n",
            "Requirement already satisfied: MarkupSafe>=2.0 in /usr/local/lib/python3.12/dist-packages (from jinja2->torch==2.2.2->torchvision==0.17.2) (3.0.2)\n",
            "Requirement already satisfied: mpmath<1.4,>=1.1.0 in /usr/local/lib/python3.12/dist-packages (from sympy->torch==2.2.2->torchvision==0.17.2) (1.3.0)\n"
          ]
        }
      ],
      "source": [
        "!pip install -q numpy<2 pandas matplotlib seaborn scikit-learn\n",
        "!pip install nltk\n",
        "!pip install torch==2.2.2\n",
        "!pip install torchtext==0.17.2\n",
        "!pip install torchvision==0.17.2"
      ]
    },
    {
      "cell_type": "code",
      "source": [
        "import warnings\n",
        "from tqdm import tqdm\n",
        "\n",
        "warnings.simplefilter('ignore')\n",
        "import time\n",
        "from collections import OrderedDict\n",
        "\n",
        "import re\n",
        "\n",
        "import numpy as np\n",
        "import matplotlib.pyplot as plt\n",
        "import pandas as pd\n",
        "import random\n",
        "\n",
        "import nltk\n",
        "nltk.download('punkt')\n",
        "nltk.download('punkt_tab')\n",
        "\n",
        "import torch\n",
        "import torch.nn as nn\n",
        "import torch.nn.functional as F\n",
        "import torch.optim as optim\n",
        "import string\n",
        "import time\n",
        "from torchtext.data.utils import get_tokenizer\n",
        "from torchtext.vocab import build_vocab_from_iterator\n",
        "from nltk.tokenize import word_tokenize\n",
        "\n",
        "from sklearn.manifold import TSNE\n",
        "\n",
        "# Section to suppress warnings generated by the code:\n",
        "def warn(*args, **kwargs):\n",
        "    pass\n",
        "import warnings\n",
        "warnings.warn = warn\n",
        "warnings.filterwarnings('ignore')"
      ],
      "metadata": {
        "colab": {
          "base_uri": "https://localhost:8080/"
        },
        "collapsed": true,
        "id": "z5RkpebjJuCG",
        "outputId": "4d3995df-2511-443c-9e29-76613d3877cf"
      },
      "execution_count": 6,
      "outputs": [
        {
          "output_type": "stream",
          "name": "stderr",
          "text": [
            "[nltk_data] Downloading package punkt to /root/nltk_data...\n",
            "[nltk_data]   Unzipping tokenizers/punkt.zip.\n",
            "[nltk_data] Downloading package punkt_tab to /root/nltk_data...\n",
            "[nltk_data]   Unzipping tokenizers/punkt_tab.zip.\n",
            "\n",
            "A module that was compiled using NumPy 1.x cannot be run in\n",
            "NumPy 2.0.2 as it may crash. To support both 1.x and 2.x\n",
            "versions of NumPy, modules must be compiled with NumPy 2.0.\n",
            "Some module may need to rebuild instead e.g. with 'pybind11>=2.12'.\n",
            "\n",
            "If you are a user of the module, the easiest solution will be to\n",
            "downgrade to 'numpy<2' or try to upgrade the affected module.\n",
            "We expect that some modules will need time to support NumPy 2.\n",
            "\n",
            "Traceback (most recent call last):  File \"<frozen runpy>\", line 198, in _run_module_as_main\n",
            "  File \"<frozen runpy>\", line 88, in _run_code\n",
            "  File \"/usr/local/lib/python3.12/dist-packages/colab_kernel_launcher.py\", line 37, in <module>\n",
            "    ColabKernelApp.launch_instance()\n",
            "  File \"/usr/local/lib/python3.12/dist-packages/traitlets/config/application.py\", line 992, in launch_instance\n",
            "    app.start()\n",
            "  File \"/usr/local/lib/python3.12/dist-packages/ipykernel/kernelapp.py\", line 712, in start\n",
            "    self.io_loop.start()\n",
            "  File \"/usr/local/lib/python3.12/dist-packages/tornado/platform/asyncio.py\", line 205, in start\n",
            "    self.asyncio_loop.run_forever()\n",
            "  File \"/usr/lib/python3.12/asyncio/base_events.py\", line 645, in run_forever\n",
            "    self._run_once()\n",
            "  File \"/usr/lib/python3.12/asyncio/base_events.py\", line 1999, in _run_once\n",
            "    handle._run()\n",
            "  File \"/usr/lib/python3.12/asyncio/events.py\", line 88, in _run\n",
            "    self._context.run(self._callback, *self._args)\n",
            "  File \"/usr/local/lib/python3.12/dist-packages/ipykernel/kernelbase.py\", line 510, in dispatch_queue\n",
            "    await self.process_one()\n",
            "  File \"/usr/local/lib/python3.12/dist-packages/ipykernel/kernelbase.py\", line 499, in process_one\n",
            "    await dispatch(*args)\n",
            "  File \"/usr/local/lib/python3.12/dist-packages/ipykernel/kernelbase.py\", line 406, in dispatch_shell\n",
            "    await result\n",
            "  File \"/usr/local/lib/python3.12/dist-packages/ipykernel/kernelbase.py\", line 730, in execute_request\n",
            "    reply_content = await reply_content\n",
            "  File \"/usr/local/lib/python3.12/dist-packages/ipykernel/ipkernel.py\", line 383, in do_execute\n",
            "    res = shell.run_cell(\n",
            "  File \"/usr/local/lib/python3.12/dist-packages/ipykernel/zmqshell.py\", line 528, in run_cell\n",
            "    return super().run_cell(*args, **kwargs)\n",
            "  File \"/usr/local/lib/python3.12/dist-packages/IPython/core/interactiveshell.py\", line 2975, in run_cell\n",
            "    result = self._run_cell(\n",
            "  File \"/usr/local/lib/python3.12/dist-packages/IPython/core/interactiveshell.py\", line 3030, in _run_cell\n",
            "    return runner(coro)\n",
            "  File \"/usr/local/lib/python3.12/dist-packages/IPython/core/async_helpers.py\", line 78, in _pseudo_sync_runner\n",
            "    coro.send(None)\n",
            "  File \"/usr/local/lib/python3.12/dist-packages/IPython/core/interactiveshell.py\", line 3257, in run_cell_async\n",
            "    has_raised = await self.run_ast_nodes(code_ast.body, cell_name,\n",
            "  File \"/usr/local/lib/python3.12/dist-packages/IPython/core/interactiveshell.py\", line 3473, in run_ast_nodes\n",
            "    if (await self.run_code(code, result,  async_=asy)):\n",
            "  File \"/usr/local/lib/python3.12/dist-packages/IPython/core/interactiveshell.py\", line 3553, in run_code\n",
            "    exec(code_obj, self.user_global_ns, self.user_ns)\n",
            "  File \"/tmp/ipython-input-4028733212.py\", line 19, in <cell line: 0>\n",
            "    import torch\n",
            "  File \"/usr/local/lib/python3.12/dist-packages/torch/__init__.py\", line 1477, in <module>\n",
            "    from .functional import *  # noqa: F403\n",
            "  File \"/usr/local/lib/python3.12/dist-packages/torch/functional.py\", line 9, in <module>\n",
            "    import torch.nn.functional as F\n",
            "  File \"/usr/local/lib/python3.12/dist-packages/torch/nn/__init__.py\", line 1, in <module>\n",
            "    from .modules import *  # noqa: F403\n",
            "  File \"/usr/local/lib/python3.12/dist-packages/torch/nn/modules/__init__.py\", line 35, in <module>\n",
            "    from .transformer import TransformerEncoder, TransformerDecoder, \\\n",
            "  File \"/usr/local/lib/python3.12/dist-packages/torch/nn/modules/transformer.py\", line 20, in <module>\n",
            "    device: torch.device = torch.device(torch._C._get_default_device()),  # torch.device('cpu'),\n"
          ]
        }
      ]
    },
    {
      "cell_type": "markdown",
      "source": [
        "**Feedforward Neural Networks (FNNs) for language models**\n",
        "\n",
        "FNNs, or Multi-Layer Perceptrons, serve as the foundational components for comprehending neural networks in natural language processing (NLP). In NLP tasks, FNNs process textual data by transforming it into numerical vectors known as embeddings. Subsequently, these embeddings are input to the network to predict language facets, such as the upcoming word in a sentence or the sentiment of a text.\n",
        "\n",
        "Let's consider the following song lyrics for our analysis."
      ],
      "metadata": {
        "id": "dWMy7lzlLg2u"
      }
    },
    {
      "cell_type": "code",
      "source": [
        "song= \"\"\"We are no strangers to love\n",
        "You know the rules and so do I\n",
        "A full commitments what Im thinking of\n",
        "You wouldnt get this from any other guy\n",
        "I just wanna tell you how Im feeling\n",
        "Gotta make you understand\n",
        "Never gonna give you up\n",
        "Never gonna let you down\n",
        "Never gonna run around and desert you\n",
        "Never gonna make you cry\n",
        "Never gonna say goodbye\n",
        "Never gonna tell a lie and hurt you\n",
        "Weve known each other for so long\n",
        "Your hearts been aching but youre too shy to say it\n",
        "Inside we both know whats been going on\n",
        "We know the game and were gonna play it\n",
        "And if you ask me how Im feeling\n",
        "Dont tell me youre too blind to see\n",
        "Never gonna give you up\n",
        "Never gonna let you down\n",
        "Never gonna run around and desert you\n",
        "Never gonna make you cry\n",
        "Never gonna say goodbye\n",
        "Never gonna tell a lie and hurt you\n",
        "Never gonna give you up\n",
        "Never gonna let you down\n",
        "Never gonna run around and desert you\n",
        "Never gonna make you cry\n",
        "Never gonna say goodbye\n",
        "Never gonna tell a lie and hurt you\n",
        "Weve known each other for so long\n",
        "Your hearts been aching but youre too shy to say it\n",
        "Inside we both know whats been going on\n",
        "We know the game and were gonna play it\n",
        "I just wanna tell you how Im feeling\n",
        "Gotta make you understand\n",
        "Never gonna give you up\n",
        "Never gonna let you down\n",
        "Never gonna run around and desert you\n",
        "Never gonna make you cry\n",
        "Never gonna say goodbye\n",
        "Never gonna tell a lie and hurt you\n",
        "Never gonna give you up\n",
        "Never gonna let you down\n",
        "Never gonna run around and desert you\n",
        "Never gonna make you cry\n",
        "Never gonna say goodbye\n",
        "Never gonna tell a lie and hurt you\n",
        "Never gonna give you up\n",
        "Never gonna let you down\n",
        "Never gonna run around and desert you\n",
        "Never gonna make you cry\n",
        "Never gonna say goodbye\n",
        "Never gonna tell a lie and hurt you\"\"\""
      ],
      "metadata": {
        "id": "ZOqSOtGZLRaE"
      },
      "execution_count": 7,
      "outputs": []
    },
    {
      "cell_type": "code",
      "source": [
        "# Tokenization for FNN - PyTorch function to obtain a tokenizer for text.\n",
        "tokenizer = get_tokenizer(\"basic_english\")\n",
        "tokens = tokenizer(song)"
      ],
      "metadata": {
        "id": "9yZJrYgyLvNL"
      },
      "execution_count": 8,
      "outputs": []
    },
    {
      "cell_type": "code",
      "source": [
        "def preprocess_string(s):\n",
        "    \"\"\"\n",
        "    Preprocesses a given string by performing the following steps:\n",
        "\n",
        "    1. Removes all non-word characters (excluding letters and numbers).\n",
        "    2. Removes all whitespace characters.\n",
        "    3. Removes all numeric digits.\n",
        "\n",
        "    Parameters:\n",
        "    s (str): The input string to be cleaned.\n",
        "\n",
        "    Returns:\n",
        "    str: The processed string with only alphabetic characters, no spaces, and no digits.\n",
        "    \"\"\"\n",
        "    # Remove all non-word characters (everything except letters and numbers)\n",
        "    # \\w matches any word character (letters, numbers, and underscores)\n",
        "    # \\s matches any whitespace characters\n",
        "    # ^ inside [] negates the selection, so [^\\w\\s] matches anything that's NOT a word character or whitespace.\n",
        "    s = re.sub(r\"[^\\w\\s]\", '', s)\n",
        "\n",
        "    # Remove all whitespace characters (spaces, tabs, newlines)\n",
        "    # \\s+ matches one or more whitespace characters.\n",
        "    s = re.sub(r\"\\s+\", '', s)\n",
        "\n",
        "    # Remove all digits (0-9)\n",
        "    # \\d matches any digit character.\n",
        "    s = re.sub(r\"\\d\", '', s)\n",
        "\n",
        "    return s"
      ],
      "metadata": {
        "id": "6GW2LwdAMC5C"
      },
      "execution_count": 9,
      "outputs": []
    },
    {
      "cell_type": "code",
      "source": [
        "def preprocess(words):\n",
        "    \"\"\"\n",
        "    Preprocesses a given text by tokenizing it, cleaning individual words, and\n",
        "    converting them to lowercase while removing empty or punctuation tokens.\n",
        "\n",
        "    Steps:\n",
        "    1. Tokenization: Splits the input text into individual word tokens.\n",
        "    2. Cleaning: Applies `preprocess_string()` to remove non-word characters,\n",
        "       spaces, and digits from each token.\n",
        "    3. Normalization: Converts all tokens to lowercase.\n",
        "    4. Filtering: Removes empty strings and punctuation tokens.\n",
        "\n",
        "    Parameters:\n",
        "    words (str): The input text to be tokenized and preprocessed.\n",
        "\n",
        "    Returns:\n",
        "    list: A list of cleaned, lowercase tokens.\n",
        "    \"\"\"\n",
        "\n",
        "    # Tokenize the input text into words\n",
        "    tokens = word_tokenize(words)\n",
        "\n",
        "    # Apply preprocessing to each token (removes unwanted characters)\n",
        "    tokens = [preprocess_string(w) for w in tokens]\n",
        "\n",
        "    # Convert tokens to lowercase and remove empty strings or punctuation\n",
        "    return [w.lower() for w in tokens if len(w)!=0 and w not in string.punctuation]\n",
        "\n",
        "# Example\n",
        "tokens = preprocess(song) # Preprocess the text in 'song'"
      ],
      "metadata": {
        "id": "XiF4iwIs_G5i"
      },
      "execution_count": 10,
      "outputs": []
    },
    {
      "cell_type": "markdown",
      "source": [
        "**Indexing**\n",
        "\n",
        "TorchText provides tools to tokenize text into individual words (tokens) and build a vocabulary, which maps tokens to unique integer indexes. This is a crucial step in preparing text data for machine learning models that require numerical input."
      ],
      "metadata": {
        "id": "-f2N2U2ATCSe"
      }
    },
    {
      "cell_type": "code",
      "source": [
        "def tokenizetext(song):\n",
        "    \"\"\"\n",
        "    Tokenizes the input text (song) and builds a vocabulary from the tokens.\n",
        "\n",
        "    Steps:\n",
        "    1. Tokenization: The function splits the input text into words and applies\n",
        "       a tokenizer function to each word.\n",
        "    2. Vocabulary Building: Constructs a vocabulary from the tokenized words,\n",
        "       including a special \"<unk>\" token to handle out-of-vocabulary words.\n",
        "    3. Default Indexing: Sets the default index for unknown words, ensuring\n",
        "       that any unseen tokens are mapped to \"<unk>\".\n",
        "\n",
        "    Parameters:\n",
        "    song (str): The input text (song lyrics) to be tokenized and processed.\n",
        "\n",
        "    Returns:\n",
        "    vocab (Vocab): A vocabulary object mapping tokens to their corresponding indices.\n",
        "    \"\"\"\n",
        "\n",
        "    # Tokenize the text\n",
        "    # Split the input text into words and apply the tokenizer function to each word.\n",
        "    # The 'map' function ensures that each word is tokenized properly.\n",
        "    tokenized_song = map(tokenizer, song.split())\n",
        "\n",
        "    # Build vocabulary from tokenized text\n",
        "    # The function `build_vocab_from_iterator` constructs a vocabulary by iterating\n",
        "    # over the tokenized words. The special token \"<unk>\" is added to handle words\n",
        "    # that are not present in the vocabulary.\n",
        "    vocab = build_vocab_from_iterator(tokenized_song, specials=[\"<unk>\"])\n",
        "\n",
        "    # Set the default index for unknown words\n",
        "    # The default index is set to the index of \"<unk>\" so that any word not found\n",
        "    # in the vocabulary is mapped to this token, preventing errors during lookup.\n",
        "    vocab.set_default_index(vocab[\"<unk>\"])\n",
        "\n",
        "    return vocab"
      ],
      "metadata": {
        "id": "MEZYh6HrA8c_"
      },
      "execution_count": 11,
      "outputs": []
    },
    {
      "cell_type": "code",
      "source": [
        "# Converting the tokens to indices\n",
        "vocab = tokenizetext(song)\n",
        "vocab(tokens[0:10])"
      ],
      "metadata": {
        "colab": {
          "base_uri": "https://localhost:8080/"
        },
        "id": "OZKCLP4mU7iq",
        "outputId": "81805ab5-fb92-4c83-8d2c-41476a85eb98"
      },
      "execution_count": 12,
      "outputs": [
        {
          "output_type": "execute_result",
          "data": {
            "text/plain": [
              "[21, 58, 70, 74, 25, 69, 2, 20, 31, 72]"
            ]
          },
          "metadata": {},
          "execution_count": 12
        }
      ]
    },
    {
      "cell_type": "code",
      "source": [
        "# Text function: converts RAW text to indices\n",
        "text_pipeline = lambda x: vocab(tokenizer(x))\n",
        "text_pipeline(song)[0:10]"
      ],
      "metadata": {
        "colab": {
          "base_uri": "https://localhost:8080/"
        },
        "id": "Dfhl-rZ9VLum",
        "outputId": "d6da4f84-d9fc-4c4e-b1bb-ea15bb9843a7"
      },
      "execution_count": 13,
      "outputs": [
        {
          "output_type": "execute_result",
          "data": {
            "text/plain": [
              "[21, 58, 70, 74, 25, 69, 2, 20, 31, 72]"
            ]
          },
          "metadata": {},
          "execution_count": 13
        }
      ]
    },
    {
      "cell_type": "code",
      "source": [
        "index_to_token = vocab.get_itos()\n",
        "index_to_token[58]"
      ],
      "metadata": {
        "colab": {
          "base_uri": "https://localhost:8080/",
          "height": 35
        },
        "id": "g2QRSM5jVdqL",
        "outputId": "7d653b83-82ea-47f5-fa8c-c781ac71d074"
      },
      "execution_count": 14,
      "outputs": [
        {
          "output_type": "execute_result",
          "data": {
            "text/plain": [
              "'are'"
            ],
            "application/vnd.google.colaboratory.intrinsic+json": {
              "type": "string"
            }
          },
          "metadata": {},
          "execution_count": 14
        }
      ]
    },
    {
      "cell_type": "markdown",
      "source": [
        "**Embedding layers**\n",
        "\n",
        "- An embedding layer is a crucial element in natural language processing (NLP) and neural networks designed for sequential data. It serves to convert categorical variables, like words or discrete indexes representing tokens, into continuous vectors. This transformation facilitates training and enables the network to learn meaningful relationships among words."
      ],
      "metadata": {
        "id": "rHyG7RPMb4vl"
      }
    },
    {
      "cell_type": "code",
      "source": [
        "def genembedding(vocab):\n",
        "    \"\"\"\n",
        "    Generates an embedding layer for the given vocabulary.\n",
        "\n",
        "    The embedding layer transforms words into dense vector representations,\n",
        "    allowing the model to learn semantic relationships between words.\n",
        "\n",
        "    Parameters:\n",
        "    vocab (Vocab): The vocabulary object containing unique words and their indices.\n",
        "\n",
        "    Returns:\n",
        "    nn.Embedding: A PyTorch embedding layer with a specified embedding dimension.\n",
        "    \"\"\"\n",
        "\n",
        "    # Define the embedding dimension (size of word vectors)\n",
        "    embedding_dim = 20 # Each word will be represented as a 20-dimensional vector\n",
        "\n",
        "    # Get the vocabulary size (number of unique words in the vocabulary)\n",
        "    vocab_size = len(vocab)\n",
        "\n",
        "    # Create an embedding layer\n",
        "    # The nn.Embedding module maps word indices to dense vector representations.\n",
        "    # It takes vocab_size as the number of words and embedding_dim as the vector size.\n",
        "    embeddings = nn.Embedding(vocab_size, embedding_dim=embedding_dim)\n",
        "\n",
        "    return embeddings"
      ],
      "metadata": {
        "id": "opzKq7aQW00I"
      },
      "execution_count": 15,
      "outputs": []
    },
    {
      "cell_type": "code",
      "source": [
        "embeddings = genembedding(vocab)\n",
        "for n in range(2):\n",
        "  embedding = embeddings(torch.tensor(n))\n",
        "  print(\"word\", index_to_token[n])\n",
        "  print(\"index\", n)\n",
        "  print(\"embedding\", embedding)\n",
        "  print(\"embedding shape\", embedding.shape)"
      ],
      "metadata": {
        "colab": {
          "base_uri": "https://localhost:8080/"
        },
        "id": "LscrucMtcmxx",
        "outputId": "368cd314-7b79-4d07-80a6-cc67ea224442"
      },
      "execution_count": 16,
      "outputs": [
        {
          "output_type": "stream",
          "name": "stdout",
          "text": [
            "word <unk>\n",
            "index 0\n",
            "embedding tensor([-0.5376, -0.9978,  1.3044,  0.4863,  1.4051, -0.5307, -0.0554, -0.0972,\n",
            "         0.7313, -0.4482, -0.0338,  2.0839, -1.7291,  0.0520,  1.3326, -1.4710,\n",
            "         2.3910, -0.4022, -0.8394, -0.9665], grad_fn=<EmbeddingBackward0>)\n",
            "embedding shape torch.Size([20])\n",
            "word gonna\n",
            "index 1\n",
            "embedding tensor([ 0.3686, -2.0362, -0.5445,  0.5411, -0.5630, -1.6446,  0.1892,  0.5065,\n",
            "         1.2831, -0.3489,  0.8167, -0.9600, -1.0914,  0.6408, -0.4041,  0.7920,\n",
            "        -1.0516,  0.3238, -0.2498, -1.1703], grad_fn=<EmbeddingBackward0>)\n",
            "embedding shape torch.Size([20])\n"
          ]
        }
      ]
    },
    {
      "cell_type": "markdown",
      "source": [
        "**Generating context-target pairs (n-grams)**\n",
        "\n",
        "- Organize words within a variable-size context using the following approach: Each word is denoted by 'i'. To establish the context, simply subtract 'j'. The size of the context is determined by the value of CONTEXT_SIZE."
      ],
      "metadata": {
        "id": "j4k8F8gJnFOH"
      }
    },
    {
      "cell_type": "code",
      "source": [
        "# Context for generating N-Grams\n",
        "CONTEXT_SIZE = 2 # The number of previous words used to predict the next words\n",
        "\n",
        "def genngrams(tokens):\n",
        "    \"\"\"\n",
        "    Generates n-grams from a list of tokens, where each n-gram consists of a\n",
        "    context (previous words) and a target (next word).\n",
        "\n",
        "    The function constructs a list of tuples where:\n",
        "    - The first element is a list of `CONTEXT_SIZE` previous words.\n",
        "    - The second element is the target word that follows the context.\n",
        "\n",
        "    Parameters:\n",
        "    tokens (list): A list of preprocessed word tokens.\n",
        "\n",
        "    Returns:\n",
        "    list: A list of tuples representing n-grams.\n",
        "          Each tuple contains (context_words, target_word).\n",
        "    \"\"\"\n",
        "\n",
        "    # Generate n-grams\n",
        "    # Iterate through the tokens starting from index CONTEXT_SIZE to the end\n",
        "    # For each token at position 'i', extract the previous CONTEXT_SIZE words as context\n",
        "    ngrams = [\n",
        "        (\n",
        "            [tokens[i-j-1] for j in range(CONTEXT_SIZE)],\n",
        "            tokens[i] # Target Word = The word to predict\n",
        "        )\n",
        "        for i in range(CONTEXT_SIZE, len(tokens))\n",
        "    ]\n",
        "\n",
        "    return ngrams"
      ],
      "metadata": {
        "id": "TKwXUDN1dHwe"
      },
      "execution_count": 17,
      "outputs": []
    },
    {
      "cell_type": "code",
      "source": [
        "# Output the first element, which results in a tuple. The initial element represents the context, and the index indicates the following word.\n",
        "ngrams = genngrams(tokens)\n",
        "context, target = ngrams[0]\n",
        "print(\"context\", context, \"target\", target)\n",
        "print(\"context index\", vocab(context), \"target index\", vocab([target]))"
      ],
      "metadata": {
        "colab": {
          "base_uri": "https://localhost:8080/"
        },
        "id": "A9u7btngn9hD",
        "outputId": "c307b070-bcaf-4c4f-ddad-fa157bb81e06"
      },
      "execution_count": 18,
      "outputs": [
        {
          "output_type": "stream",
          "name": "stdout",
          "text": [
            "context ['are', 'we'] target no\n",
            "context index [58, 21] target index [70]\n"
          ]
        }
      ]
    },
    {
      "cell_type": "code",
      "source": [
        "embedding_dim = 20\n",
        "linear = nn.Linear(embedding_dim*CONTEXT_SIZE, 128)"
      ],
      "metadata": {
        "id": "8PQZe-F5oezX"
      },
      "execution_count": 19,
      "outputs": []
    },
    {
      "cell_type": "code",
      "source": [
        "embeddings=genembedding(vocab)\n",
        "my_embeddings=embeddings(torch.tensor(vocab(context)))\n",
        "my_embeddings.shape"
      ],
      "metadata": {
        "colab": {
          "base_uri": "https://localhost:8080/"
        },
        "id": "o1QQsBQhBfP9",
        "outputId": "6c33df64-e382-4930-b4ee-f453e046ea53"
      },
      "execution_count": 20,
      "outputs": [
        {
          "output_type": "execute_result",
          "data": {
            "text/plain": [
              "torch.Size([2, 20])"
            ]
          },
          "metadata": {},
          "execution_count": 20
        }
      ]
    },
    {
      "cell_type": "code",
      "source": [
        "my_embeddings=my_embeddings.reshape(1,-1)\n",
        "my_embeddings.shape"
      ],
      "metadata": {
        "colab": {
          "base_uri": "https://localhost:8080/"
        },
        "id": "K47Bg5y6BhLI",
        "outputId": "8fa6de1d-f7dc-4498-a222-72e122ba2b6a"
      },
      "execution_count": 21,
      "outputs": [
        {
          "output_type": "execute_result",
          "data": {
            "text/plain": [
              "torch.Size([1, 40])"
            ]
          },
          "metadata": {},
          "execution_count": 21
        }
      ]
    },
    {
      "cell_type": "code",
      "source": [
        "linear(my_embeddings)"
      ],
      "metadata": {
        "colab": {
          "base_uri": "https://localhost:8080/"
        },
        "id": "fXvKMc44BjaN",
        "outputId": "2b556e0b-b99f-42fa-bb69-c29d3f2d6ea0"
      },
      "execution_count": 22,
      "outputs": [
        {
          "output_type": "execute_result",
          "data": {
            "text/plain": [
              "tensor([[ 1.1257,  0.0050,  0.4230, -0.8576,  0.6964, -0.0244,  0.1117,  0.3231,\n",
              "          1.4254, -0.2774, -0.0276, -1.2856, -0.8959, -0.1296,  0.9480, -0.4412,\n",
              "         -0.0259, -0.0239, -0.3040, -0.7152,  1.2276, -0.1488,  0.4732,  0.0544,\n",
              "         -0.1944,  0.4443,  0.9580,  0.6276, -0.8913,  1.0747, -0.7110,  0.3659,\n",
              "          0.7405,  0.9860,  0.1839,  0.8238,  0.2128, -0.3828, -0.4460,  0.0270,\n",
              "         -0.7191, -0.1684, -0.4571,  0.0148, -0.1966, -0.2324,  0.4082,  0.5416,\n",
              "          0.8251,  0.0951, -0.1014, -0.2466, -0.9773, -0.6339, -0.6726, -0.6150,\n",
              "          0.6076,  0.5571,  0.2351,  0.4112, -0.1415,  0.5998,  0.8868,  0.2428,\n",
              "          0.3695, -1.0506, -0.6179,  0.4588,  0.4196,  1.1889,  0.4655, -0.6558,\n",
              "          0.6086, -1.0208, -0.3953,  0.9060,  0.6467, -0.8610,  1.6838,  1.2146,\n",
              "         -0.9748,  0.5659,  0.0383, -0.7259,  1.0281,  0.8907, -0.4202,  0.2078,\n",
              "         -0.0160, -1.0341,  0.1154,  0.1532,  0.5679,  0.2125,  0.0831,  0.0533,\n",
              "          0.6713, -0.1117,  0.7747,  0.2990, -0.5122,  0.4610, -0.0958, -0.9074,\n",
              "         -0.9453,  0.1970, -1.0068,  0.3460,  0.8888, -0.5657, -0.2541,  0.0213,\n",
              "         -1.0079,  1.4561, -0.3814,  0.0227,  0.7213, -0.3449,  0.9473, -0.7963,\n",
              "         -0.1101,  0.6439,  0.5589,  0.1330, -0.7363, -0.6995, -0.3709,  0.1320]],\n",
              "       grad_fn=<AddmmBackward0>)"
            ]
          },
          "metadata": {},
          "execution_count": 22
        }
      ]
    },
    {
      "cell_type": "markdown",
      "source": [
        "**Batch function**\n",
        "- Create a Batch function to interface with the data loader. Several adjustments are necessary to handle words that are part of a context in one batch and a predicted word in the following batch."
      ],
      "metadata": {
        "id": "cij29k74BsTT"
      }
    },
    {
      "cell_type": "code",
      "source": [
        "from torch.utils.data import DataLoader  # Importing DataLoader for batch processing\n",
        "import torch  # Importing PyTorch\n",
        "\n",
        "# Set the device to GPU if available; otherwise, use CPU\n",
        "device = torch.device(\"cuda\" if torch.cuda.is_available() else \"cpu\")\n",
        "\n",
        "# Define hyperparameters\n",
        "CONTEXT_SIZE = 3   # Number of previous words used as context for prediction\n",
        "BATCH_SIZE = 10    # Number of samples per training batch\n",
        "EMBEDDING_DIM = 10 # Dimension of word embeddings\n",
        "\n",
        "def collate_batch(batch):\n",
        "    \"\"\"\n",
        "    Processes a batch of text data into input (context) and output (target) tensors\n",
        "    for training a language model.\n",
        "\n",
        "    The function extracts:\n",
        "    - `context`: A list of word indices representing the context words for each target word.\n",
        "    - `target`: A list of word indices representing the target word to predict.\n",
        "\n",
        "    Parameters:\n",
        "    batch (list): A list of tokenized words (strings).\n",
        "\n",
        "    Returns:\n",
        "    tuple: Two PyTorch tensors: (context_tensor, target_tensor)\n",
        "           - context_tensor: Tensor of shape (batch_size - CONTEXT_SIZE, CONTEXT_SIZE),\n",
        "             containing the word indices of context words.\n",
        "           - target_tensor: Tensor of shape (batch_size - CONTEXT_SIZE,),\n",
        "             containing the word indices of target words.\n",
        "    \"\"\"\n",
        "\n",
        "    batch_size = len(batch)  # Get the size of the batch\n",
        "    context, target = [], [] # Initialize lists for context and target words\n",
        "\n",
        "    # Loop through the batch, ensuring enough previous words exist for context\n",
        "    for i in range(CONTEXT_SIZE, batch_size):\n",
        "        # Convert the target word to its index using the vocabulary\n",
        "        target.append(vocab([batch[i]]))\n",
        "\n",
        "        # Convert the previous CONTEXT_SIZE words to indices using the vocabulary\n",
        "        context.append(vocab([batch[i - j - 1] for j in range(CONTEXT_SIZE)]))\n",
        "\n",
        "    # Convert lists to PyTorch tensors and move them to the appropriate device (CPU/GPU)\n",
        "    return torch.tensor(context).to(device), torch.tensor(target).to(device).reshape(-1)"
      ],
      "metadata": {
        "id": "2Y6xvrcZBnTX"
      },
      "execution_count": 23,
      "outputs": []
    },
    {
      "cell_type": "code",
      "source": [
        "Padding=BATCH_SIZE-len(tokens)%BATCH_SIZE\n",
        "tokens_pad=tokens+tokens[0:Padding]"
      ],
      "metadata": {
        "id": "snAynBj5B3kA"
      },
      "execution_count": 24,
      "outputs": []
    },
    {
      "cell_type": "code",
      "source": [
        "dataloader = DataLoader(\n",
        "     tokens_pad, batch_size=BATCH_SIZE, shuffle=False, collate_fn=collate_batch\n",
        ")"
      ],
      "metadata": {
        "id": "lwpxXzdxCEcB"
      },
      "execution_count": 25,
      "outputs": []
    },
    {
      "cell_type": "markdown",
      "source": [
        "**Multi-class neural network**\n",
        "- You have developed a PyTorch class for a multi-class neural network. The network's output is the probability of the next word within a given context. Therefore, the number of classes corresponds to the count of distinct words. The initial layer consists of embeddings, and in addition to the final layer, an extra hidden layer is incorporated."
      ],
      "metadata": {
        "id": "Vrsixzs_CIGP"
      }
    },
    {
      "cell_type": "code",
      "source": [
        "class NGramLanguageModeler(nn.Module):\n",
        "    \"\"\"\n",
        "    A neural network-based n-gram language model that predicts the next word\n",
        "    given a sequence of context words.\n",
        "\n",
        "    This model consists of:\n",
        "    - An embedding layer that converts word indices into dense vector representations.\n",
        "    - A fully connected hidden layer with ReLU activation.\n",
        "    - An output layer that predicts the probability distribution over the vocabulary.\n",
        "\n",
        "    Parameters:\n",
        "    vocab_size (int): The number of unique words in the vocabulary.\n",
        "    embedding_dim (int): The size of the word embeddings (vector representation of words).\n",
        "    context_size (int): The number of previous words used as context to predict the next word.\n",
        "    \"\"\"\n",
        "\n",
        "    def __init__(self, vocab_size, embedding_dim, context_size):\n",
        "        super(NGramLanguageModeler, self).__init__()\n",
        "\n",
        "        # Store context size and embedding dimension\n",
        "        self.context_size = context_size\n",
        "        self.embedding_dim = embedding_dim\n",
        "\n",
        "        # Embedding layer: Maps word indices to dense vectors\n",
        "        self.embeddings = nn.Embedding(vocab_size, embedding_dim)\n",
        "\n",
        "        # Fully connected hidden layer: Maps the concatenated embeddings to a 128-dimensional space\n",
        "        self.linear1 = nn.Linear(context_size * embedding_dim, 128)\n",
        "\n",
        "        # Output layer: Maps the hidden layer output to vocabulary size (probability distribution over words)\n",
        "        self.linear2 = nn.Linear(128, vocab_size)\n",
        "\n",
        "    def forward(self, inputs):\n",
        "        \"\"\"\n",
        "        Forward pass of the model.\n",
        "\n",
        "        Parameters:\n",
        "        inputs (Tensor): A tensor of shape (batch_size, context_size) containing word indices.\n",
        "\n",
        "        Returns:\n",
        "        Tensor: A tensor of shape (batch_size, vocab_size) representing predicted probabilities for the next word.\n",
        "        \"\"\"\n",
        "\n",
        "        # Convert input word indices into dense vectors using the embedding layer\n",
        "        embeds = self.embeddings(inputs)   # shape: (batch_size, context_size, embedding_dim)\n",
        "\n",
        "        # Reshape the embeddings into a single vector per input sample\n",
        "        embeds = torch.reshape(embeds, (-1, self.context_size * self.embedding_dim))\n",
        "        # New shape: (batch_size, context_size * embedding_dim)\n",
        "\n",
        "        # Apply first fully connected layer with ReLU activation\n",
        "        out = F.relu(self.linear1(embeds))\n",
        "\n",
        "        # Apply second fully connected layer to generate vocabulary-size logits\n",
        "        out = self.linear2(out) # Shape: (batch_size, vocab_size)\n",
        "\n",
        "        return out"
      ],
      "metadata": {
        "id": "xH4mGuzCCGHz"
      },
      "execution_count": 35,
      "outputs": []
    },
    {
      "cell_type": "code",
      "source": [
        "# Create the model\n",
        "model = NGramLanguageModeler(len(vocab), EMBEDDING_DIM, CONTEXT_SIZE).to(device)"
      ],
      "metadata": {
        "id": "DQ26REGRDqDG"
      },
      "execution_count": 36,
      "outputs": []
    },
    {
      "cell_type": "code",
      "source": [
        "# Retrieve from the data loader object and input them to the NN\n",
        "context, target=next(iter(dataloader))\n",
        "print(context, target)\n",
        "out=model(context)"
      ],
      "metadata": {
        "colab": {
          "base_uri": "https://localhost:8080/"
        },
        "id": "fWtmiNOHD1rb",
        "outputId": "2d54e48c-5d57-48e3-8a26-28f5c0ef0d9a"
      },
      "execution_count": 37,
      "outputs": [
        {
          "output_type": "stream",
          "name": "stdout",
          "text": [
            "tensor([[70, 58, 21],\n",
            "        [74, 70, 58],\n",
            "        [25, 74, 70],\n",
            "        [69, 25, 74],\n",
            "        [ 2, 69, 25],\n",
            "        [20,  2, 69],\n",
            "        [31, 20,  2]]) tensor([74, 25, 69,  2, 20, 31, 72])\n"
          ]
        }
      ]
    },
    {
      "cell_type": "code",
      "source": [
        "out.shape"
      ],
      "metadata": {
        "colab": {
          "base_uri": "https://localhost:8080/"
        },
        "id": "z3ZKUr2XEnhA",
        "outputId": "55f1df66-88fc-466c-fa6f-b707149f0bf2"
      },
      "execution_count": 38,
      "outputs": [
        {
          "output_type": "execute_result",
          "data": {
            "text/plain": [
              "torch.Size([7, 79])"
            ]
          },
          "metadata": {},
          "execution_count": 38
        }
      ]
    },
    {
      "cell_type": "code",
      "source": [
        "# Find the index with the highest prob\n",
        "predicted_index =torch.argmax(out,1)\n",
        "predicted_index"
      ],
      "metadata": {
        "colab": {
          "base_uri": "https://localhost:8080/"
        },
        "id": "JROiPpCLE7ax",
        "outputId": "74d51bc8-10f1-497d-eaf3-fd91d6999449"
      },
      "execution_count": 39,
      "outputs": [
        {
          "output_type": "execute_result",
          "data": {
            "text/plain": [
              "tensor([28, 28, 21, 74, 72, 74, 53])"
            ]
          },
          "metadata": {},
          "execution_count": 39
        }
      ]
    },
    {
      "cell_type": "code",
      "source": [
        "# Finding the corresponding token\n",
        "[index_to_token[i.item()] for i in  predicted_index]"
      ],
      "metadata": {
        "colab": {
          "base_uri": "https://localhost:8080/"
        },
        "id": "ZfMmVJSBFTvd",
        "outputId": "8bd4d83d-6f14-48f7-bab2-627150225517"
      },
      "execution_count": 40,
      "outputs": [
        {
          "output_type": "execute_result",
          "data": {
            "text/plain": [
              "['i', 'i', 'we', 'strangers', 'rules', 'strangers', 'were']"
            ]
          },
          "metadata": {},
          "execution_count": 40
        }
      ]
    },
    {
      "cell_type": "code",
      "source": [
        "def write_song(model, my_song, number_of_words=100):\n",
        "    \"\"\"\n",
        "    Generates text using a trained n-gram language model.\n",
        "\n",
        "    Given an initial text (`my_song`), the function generates additional words by\n",
        "    predicting the next word iteratively based on the trained model.\n",
        "\n",
        "    Parameters:\n",
        "    model (nn.Module): The trained n-gram language model.\n",
        "    my_song (str): The initial seed text to start generating words.\n",
        "    number_of_words (int): The number of words to generate (default: 100).\n",
        "\n",
        "    Returns:\n",
        "    str: The generated song lyrics as a string.\n",
        "    \"\"\"\n",
        "\n",
        "    # Get the mapping from index to word for decoding predictions\n",
        "    index_to_token = vocab.get_itos()\n",
        "\n",
        "    # Loop to generate the desired number of words\n",
        "    for i in range(number_of_words):\n",
        "\n",
        "        with torch.no_grad():  # Disable gradient computation for inference\n",
        "\n",
        "            # Prepare the input context by extracting the last CONTEXT_SIZE words from tokens\n",
        "            context = torch.tensor(\n",
        "                vocab([tokens[i - j - 1] for j in range(CONTEXT_SIZE)])\n",
        "            ).to(device)  # Move to CPU/GPU as required\n",
        "\n",
        "            # Predict the next word by selecting the word with the highest probability\n",
        "            word_idx = torch.argmax(model(context))  # Get index of the most likely next word\n",
        "\n",
        "            # Append the predicted word to the generated text\n",
        "            my_song += \" \" + index_to_token[word_idx.detach().item()]\n",
        "\n",
        "    return my_song  # Return the generated lyrics"
      ],
      "metadata": {
        "id": "2HKew8isFYRf"
      },
      "execution_count": 41,
      "outputs": []
    },
    {
      "cell_type": "code",
      "source": [
        "def pickrandomline(song):\n",
        "    \"\"\"\n",
        "    Selects a random line from the given song text.\n",
        "\n",
        "    This function splits the song into separate lines and randomly picks one of them.\n",
        "\n",
        "    Parameters:\n",
        "    song (str): The song lyrics as a multi-line string.\n",
        "\n",
        "    Returns:\n",
        "    str: A randomly selected line from the song.\n",
        "    \"\"\"\n",
        "\n",
        "    # Split the song into individual lines\n",
        "    lines = song.split(\"\\n\")\n",
        "\n",
        "    # Randomly select a line and remove leading/trailing whitespace\n",
        "    selected_line = random.choice(lines).strip()\n",
        "\n",
        "    return selected_line  # Return the randomly selected line\n",
        "\n",
        "# Example usage:\n",
        "selected_line = pickrandomline(song)  # Pick a random line from the song\n",
        "\n",
        "# Generate a new song starting with the selected line\n",
        "generated_song = write_song(model, selected_line)\n",
        "\n",
        "# Print the generated lyrics\n",
        "print(generated_song)"
      ],
      "metadata": {
        "colab": {
          "base_uri": "https://localhost:8080/"
        },
        "id": "TppBTDSbFlHH",
        "outputId": "6b83b68a-bca3-4499-e233-d3b80d413bb9"
      },
      "execution_count": 42,
      "outputs": [
        {
          "output_type": "stream",
          "name": "stdout",
          "text": [
            "Never gonna run around and desert you strangers strangers we i i we strangers rules strangers were we rules strangers ask were rules i strangers i feeling we rules strangers what your how strangers rules we i known rules inside aching we we rules inside how long a we we i how i a we strangers from what im a we strangers rules how aching a we ask rules i strangers strangers i a we we were ask im a we going love strangers a we we strangers how we strangers strangers known strangers rules love strangers wanna your strangers ask rules lie your known get were\n"
          ]
        }
      ]
    },
    {
      "cell_type": "markdown",
      "source": [
        "**Training**\n",
        "- Training a language model involves a multi-step process that leverages training and testing data to optimize model performance. In the realm of Natural Language Processing (NLP), this process often employs various metrics to gauge a model's accuracy, such as perplexity or accuracy on unseen data. However, in the context of your current exploration, you will embark on a slightly different journey. Instead of relying solely on conventional NLP metrics, the focus shifts to manual inspection of the results.\n",
        "\n",
        "You have the cross entropy loss between input logits and target:"
      ],
      "metadata": {
        "id": "wpkqgccdFumg"
      }
    },
    {
      "cell_type": "code",
      "source": [
        "criterion = torch.nn.CrossEntropyLoss()"
      ],
      "metadata": {
        "id": "vycUVoVuFnXo"
      },
      "execution_count": 43,
      "outputs": []
    },
    {
      "cell_type": "code",
      "source": [
        "def train(dataloader, model,song,number_of_epochs=100, show=10):\n",
        "    \"\"\"\n",
        "    Args:\n",
        "        dataloader (DataLoader): DataLoader containing training data.\n",
        "        model (nn.Module): Neural network model to be trained.\n",
        "        number_of_epochs (int, optional): Number of epochs for training. Default is 100.\n",
        "        show (int, optional): Interval for displaying progress. Default is 10.\n",
        "\n",
        "    Returns:\n",
        "        list: List containing loss values for each epoch.\n",
        "    \"\"\"\n",
        "\n",
        "    MY_LOSS = []  # List to store loss values for each epoch\n",
        "\n",
        "    # Iterate over the specified number of epochs\n",
        "    for epoch in tqdm(range(number_of_epochs)):\n",
        "        total_loss = 0  # Initialize total loss for the current epoch\n",
        "        my_song = \"\"    # Initialize a string to store the generated song\n",
        "\n",
        "        # Iterate over batches in the dataloader\n",
        "        for context, target in dataloader:\n",
        "            model.zero_grad()          # Zero the gradients to avoid accumulation\n",
        "            predicted = model(context)  # Forward pass through the model to get predictions\n",
        "            loss = criterion(predicted, target.reshape(-1))  # Calculate the loss\n",
        "            total_loss += loss.item()   # Accumulate the loss\n",
        "\n",
        "            loss.backward()    # Backpropagation to compute gradients\n",
        "            optimizer.step()   # Update model parameters using the optimizer\n",
        "\n",
        "        # Display progress and generate song at specified intervals\n",
        "        if epoch % show == 0:\n",
        "            selected_line=pickrandomline(song)\n",
        "            my_song += write_song(model, selected_line)    # Generate song using the model\n",
        "\n",
        "            print(\"Generated Song:\")\n",
        "            print(\"\\n\")\n",
        "            print(my_song)\n",
        "\n",
        "        MY_LOSS.append(total_loss/len(dataloader))  # Append the total loss for the epoch to MY_LOSS list\n",
        "\n",
        "    return MY_LOSS  # Return the list of  mean loss values for each epoch"
      ],
      "metadata": {
        "id": "RRi5cMb8F4SZ"
      },
      "execution_count": 44,
      "outputs": []
    },
    {
      "cell_type": "code",
      "source": [
        "my_loss_list=[]"
      ],
      "metadata": {
        "id": "SXMnxJK2HoiR"
      },
      "execution_count": 45,
      "outputs": []
    },
    {
      "cell_type": "code",
      "source": [
        "# Define the context size for the n-gram model\n",
        "CONTEXT_SIZE = 2\n",
        "\n",
        "# Create an instance of the NGramLanguageModeler class with specified parameters\n",
        "model_2 = NGramLanguageModeler(len(vocab), EMBEDDING_DIM, CONTEXT_SIZE).to(device)\n",
        "\n",
        "# Define the optimizer for training the model, using stochastic gradient descent (SGD)\n",
        "optimizer = optim.SGD(model_2.parameters(), lr=0.01)\n",
        "\n",
        "# Set up a learning rate scheduler using StepLR to adjust the learning rate during training\n",
        "scheduler = torch.optim.lr_scheduler.StepLR(optimizer, step_size=1.0, gamma=0.1)"
      ],
      "metadata": {
        "id": "QNXqjA_FHqZn"
      },
      "execution_count": 46,
      "outputs": []
    },
    {
      "cell_type": "code",
      "source": [
        "my_loss=train(dataloader,model_2,song)"
      ],
      "metadata": {
        "colab": {
          "base_uri": "https://localhost:8080/"
        },
        "id": "BD_9w_EXH1Kk",
        "outputId": "d361dde0-d589-4129-e9bf-03601f9542ba"
      },
      "execution_count": 47,
      "outputs": [
        {
          "output_type": "stream",
          "name": "stderr",
          "text": [
            "  3%|▎         | 3/100 [00:00<00:09, 10.00it/s]"
          ]
        },
        {
          "output_type": "stream",
          "name": "stdout",
          "text": [
            "Generated Song:\n",
            "\n",
            "\n",
            "And if you ask me how Im feeling never wouldnt other <unk> lie <unk> <unk> <unk> gonna down hurt you <unk> <unk> long <unk> <unk> <unk> been <unk> youre lie <unk> <unk> <unk> lie <unk> lie lie too <unk> never <unk> <unk> you <unk> you <unk> if <unk> <unk> <unk> <unk> <unk> run <unk> <unk> lie <unk> <unk> run <unk> <unk> you <unk> never <unk> <unk> <unk> youre down <unk> lie never <unk> <unk> <unk> <unk> <unk> never been <unk> <unk> lie <unk> lie <unk> <unk> you youre lie <unk> hurt never you <unk> <unk> been <unk> <unk> <unk> youre <unk> never <unk> see <unk> hearts <unk> gonna\n"
          ]
        },
        {
          "output_type": "stream",
          "name": "stderr",
          "text": [
            " 15%|█▌        | 15/100 [00:01<00:05, 15.88it/s]"
          ]
        },
        {
          "output_type": "stream",
          "name": "stdout",
          "text": [
            "Generated Song:\n",
            "\n",
            "\n",
            "Never gonna tell a lie and hurt you never <unk> <unk> <unk> you you <unk> never <unk> you you you you <unk> never <unk> you never <unk> <unk> <unk> <unk> <unk> <unk> <unk> never <unk> <unk> <unk> <unk> never never <unk> you you you never never you <unk> you you <unk> <unk> <unk> <unk> you you never never <unk> <unk> you you never never <unk> <unk> you you and you you never <unk> <unk> you you <unk> <unk> <unk> <unk> you you <unk> <unk> <unk> you you you <unk> <unk> you never never <unk> <unk> never <unk> <unk> you <unk> never <unk> <unk> never <unk> you <unk> you\n"
          ]
        },
        {
          "output_type": "stream",
          "name": "stderr",
          "text": [
            " 26%|██▌       | 26/100 [00:01<00:02, 25.05it/s]"
          ]
        },
        {
          "output_type": "stream",
          "name": "stdout",
          "text": [
            "Generated Song:\n",
            "\n",
            "\n",
            "Never gonna make you cry never <unk> <unk> <unk> you you never never never you you you you <unk> never <unk> you never <unk> never <unk> and never <unk> <unk> never <unk> <unk> and <unk> never never <unk> tell you never never never you <unk> tell you never never <unk> <unk> tell you never never <unk> <unk> tell you never never <unk> <unk> tell you and desert you never <unk> <unk> tell you never and <unk> <unk> tell goodbye never <unk> <unk> tell you you and <unk> you never never <unk> <unk> and <unk> <unk> you say never never <unk> and <unk> you <unk> you\n"
          ]
        },
        {
          "output_type": "stream",
          "name": "stderr",
          "text": [
            " 33%|███▎      | 33/100 [00:01<00:02, 23.04it/s]"
          ]
        },
        {
          "output_type": "stream",
          "name": "stdout",
          "text": [
            "Generated Song:\n",
            "\n",
            "\n",
            "Never gonna say goodbye never <unk> <unk> <unk> you you never never never been you you you <unk> and <unk> you never <unk> never and and never <unk> <unk> never <unk> <unk> and <unk> and never <unk> tell you never never never you <unk> tell you down never <unk> <unk> tell you never never <unk> <unk> tell you down never <unk> <unk> tell you and desert you never <unk> <unk> tell you down and <unk> <unk> tell goodbye never <unk> <unk> tell you you and hurt you never never <unk> <unk> and <unk> <unk> you say been never <unk> and and you <unk> goodbye\n"
          ]
        },
        {
          "output_type": "stream",
          "name": "stderr",
          "text": [
            " 46%|████▌     | 46/100 [00:02<00:02, 26.73it/s]"
          ]
        },
        {
          "output_type": "stream",
          "name": "stdout",
          "text": [
            "Generated Song:\n",
            "\n",
            "\n",
            "I just wanna tell you how Im feeling never <unk> desert <unk> to <unk> you never never been you you you i and <unk> you never im you and and never <unk> <unk> never <unk> <unk> and <unk> and never <unk> tell you never never feeling you <unk> tell you down never <unk> <unk> tell you never never <unk> <unk> tell you down never <unk> <unk> tell you and desert you never <unk> <unk> tell you down and <unk> <unk> tell goodbye never <unk> <unk> tell you you and hurt you never never <unk> <unk> and <unk> <unk> you say been aching <unk> and too shy to goodbye\n"
          ]
        },
        {
          "output_type": "stream",
          "name": "stderr",
          "text": [
            " 55%|█████▌    | 55/100 [00:02<00:01, 24.20it/s]"
          ]
        },
        {
          "output_type": "stream",
          "name": "stdout",
          "text": [
            "Generated Song:\n",
            "\n",
            "\n",
            "Never gonna make you cry never im no <unk> to <unk> you never never been you you you i and <unk> you never im feeling <unk> and never <unk> <unk> never <unk> <unk> and <unk> and never <unk> tell you never im feeling and <unk> tell you down never <unk> <unk> tell you never never <unk> <unk> tell you down never <unk> <unk> tell you and desert you never <unk> <unk> tell you down and <unk> <unk> tell goodbye never <unk> <unk> tell you how and hurt you never known <unk> <unk> and <unk> <unk> you say been aching but and too shy to say\n"
          ]
        },
        {
          "output_type": "stream",
          "name": "stderr",
          "text": [
            " 64%|██████▍   | 64/100 [00:03<00:01, 23.47it/s]"
          ]
        },
        {
          "output_type": "stream",
          "name": "stdout",
          "text": [
            "Generated Song:\n",
            "\n",
            "\n",
            "Never gonna tell a lie and hurt you never im no strangers to <unk> you never never been you to you i and <unk> im never im feeling <unk> and never never <unk> never <unk> <unk> and <unk> and never <unk> tell you never im feeling and <unk> tell you down never <unk> <unk> tell you never never <unk> <unk> tell you down never <unk> <unk> tell goodbye and desert you never <unk> <unk> tell you down never <unk> <unk> tell goodbye never <unk> <unk> tell you how and hurt you never known <unk> <unk> and <unk> <unk> you hearts been aching but youre too shy to say\n"
          ]
        },
        {
          "output_type": "stream",
          "name": "stderr",
          "text": [
            " 73%|███████▎  | 73/100 [00:03<00:01, 22.43it/s]"
          ]
        },
        {
          "output_type": "stream",
          "name": "stdout",
          "text": [
            "Generated Song:\n",
            "\n",
            "\n",
            "Never gonna give you up never im no strangers to <unk> you never never been you to you i and the im what im feeling <unk> and never never <unk> how <unk> <unk> and <unk> know never <unk> tell you how im feeling <unk> <unk> tell you down never <unk> <unk> tell you never never <unk> <unk> tell you down never <unk> <unk> tell around and desert you never <unk> <unk> tell you down never <unk> <unk> tell goodbye never <unk> <unk> tell you lie and hurt you never known each <unk> and <unk> <unk> you hearts been aching but youre too shy to say\n"
          ]
        },
        {
          "output_type": "stream",
          "name": "stderr",
          "text": [
            " 85%|████████▌ | 85/100 [00:03<00:00, 23.18it/s]"
          ]
        },
        {
          "output_type": "stream",
          "name": "stdout",
          "text": [
            "Generated Song:\n",
            "\n",
            "\n",
            "Never gonna tell a lie and hurt you never im no strangers to <unk> you never never game you to <unk> i and the im what im feeling <unk> and never never <unk> how to <unk> and i know <unk> <unk> tell you how im feeling <unk> <unk> tell you understand never <unk> <unk> tell you never never <unk> <unk> tell you down never <unk> <unk> tell around and desert you never <unk> <unk> tell you understand never <unk> <unk> tell goodbye never <unk> <unk> tell you lie and hurt you never known each other for <unk> <unk> you hearts been aching but youre too shy to say\n"
          ]
        },
        {
          "output_type": "stream",
          "name": "stderr",
          "text": [
            " 94%|█████████▍| 94/100 [00:04<00:00, 21.12it/s]"
          ]
        },
        {
          "output_type": "stream",
          "name": "stdout",
          "text": [
            "Generated Song:\n",
            "\n",
            "\n",
            "Never gonna give you up never im no strangers to love you never the game you to <unk> i a the im what im thinking <unk> and wouldnt never <unk> how to other for i know <unk> <unk> tell you how im feeling <unk> <unk> tell you understand never <unk> <unk> tell you never never <unk> <unk> tell you down never <unk> <unk> tell around and desert you never <unk> <unk> tell you understand never <unk> <unk> tell goodbye never <unk> <unk> tell you lie and hurt you never known each other for <unk> <unk> you hearts been aching but youre too shy to say\n"
          ]
        },
        {
          "output_type": "stream",
          "name": "stderr",
          "text": [
            "100%|██████████| 100/100 [00:04<00:00, 21.08it/s]\n"
          ]
        }
      ]
    },
    {
      "cell_type": "code",
      "source": [
        "save_path = '2gram.pth'\n",
        "torch.save(model_2.state_dict(), save_path)\n",
        "my_loss_list.append(my_loss)"
      ],
      "metadata": {
        "id": "VnAwPUThH411"
      },
      "execution_count": 48,
      "outputs": []
    },
    {
      "cell_type": "code",
      "source": [
        "!pip install -q numpy<2 pandas matplotlib seaborn scikit-learn"
      ],
      "metadata": {
        "colab": {
          "base_uri": "https://localhost:8080/"
        },
        "id": "UtWfp4tlIl9A",
        "outputId": "05f45acd-f3ff-46e0-c29a-fa1b2c28f2ff"
      },
      "execution_count": 52,
      "outputs": [
        {
          "output_type": "stream",
          "name": "stdout",
          "text": [
            "/bin/bash: line 1: 2: No such file or directory\n"
          ]
        }
      ]
    },
    {
      "cell_type": "code",
      "source": [
        "import numpy as np\n",
        "print(np.__version__)"
      ],
      "metadata": {
        "colab": {
          "base_uri": "https://localhost:8080/"
        },
        "id": "HUlOfSRTIMFn",
        "outputId": "24e89522-3312-44ee-c30d-bc99f3abbec5"
      },
      "execution_count": 57,
      "outputs": [
        {
          "output_type": "stream",
          "name": "stdout",
          "text": [
            "2.0.2\n"
          ]
        }
      ]
    },
    {
      "cell_type": "code",
      "source": [
        "CONTEXT_SIZE=4\n",
        "model_4 = NGramLanguageModeler(len(vocab), EMBEDDING_DIM, CONTEXT_SIZE).to(device)\n",
        "optimizer = optim.SGD(model_4.parameters(), lr=0.01)\n",
        "scheduler = torch.optim.lr_scheduler.StepLR(optimizer, 1.0, gamma=0.1)\n",
        "my_loss=train(dataloader,model_4,song)\n",
        "\n",
        "save_path = '4gram.pth'\n",
        "torch.save(model_4.state_dict(), save_path)\n",
        "\n",
        "my_loss_list.append(my_loss)"
      ],
      "metadata": {
        "colab": {
          "base_uri": "https://localhost:8080/"
        },
        "id": "aaS5p6VyJBgm",
        "outputId": "db83cff1-de9e-4f7b-fdc1-2ad921f0a6a8"
      },
      "execution_count": 58,
      "outputs": [
        {
          "output_type": "stream",
          "name": "stderr",
          "text": [
            "  3%|▎         | 3/100 [00:00<00:03, 29.24it/s]"
          ]
        },
        {
          "output_type": "stream",
          "name": "stdout",
          "text": [
            "Generated Song:\n",
            "\n",
            "\n",
            "Never gonna make you cry going <unk> <unk> <unk> <unk> <unk> <unk> <unk> <unk> <unk> <unk> <unk> <unk> <unk> <unk> <unk> <unk> you make <unk> <unk> <unk> <unk> <unk> <unk> <unk> youre <unk> going <unk> <unk> <unk> <unk> <unk> you <unk> <unk> <unk> <unk> <unk> <unk> <unk> <unk> <unk> <unk> <unk> <unk> you you <unk> <unk> <unk> you you you <unk> <unk> <unk> <unk> you <unk> <unk> you <unk> <unk> <unk> <unk> you <unk> <unk> <unk> <unk> <unk> you <unk> <unk> <unk> <unk> you <unk> <unk> <unk> <unk> going <unk> <unk> <unk> going <unk> <unk> going <unk> <unk> never you goodbye <unk> <unk> <unk> you\n"
          ]
        },
        {
          "output_type": "stream",
          "name": "stderr",
          "text": [
            " 12%|█▏        | 12/100 [00:00<00:05, 16.44it/s]"
          ]
        },
        {
          "output_type": "stream",
          "name": "stdout",
          "text": [
            "Generated Song:\n",
            "\n",
            "\n",
            "Never gonna make you cry never <unk> <unk> <unk> <unk> <unk> never you <unk> <unk> never <unk> <unk> never <unk> <unk> <unk> never never never <unk> <unk> <unk> <unk> <unk> <unk> never never never <unk> <unk> <unk> <unk> you you never <unk> feeling you <unk> <unk> you never <unk> <unk> <unk> you you never never <unk> <unk> you you never never <unk> <unk> tell you never never you never <unk> <unk> make you never never <unk> <unk> say you never <unk> <unk> tell you never <unk> <unk> you never never <unk> <unk> never never <unk> never <unk> <unk> never <unk> never <unk> never <unk> you\n"
          ]
        },
        {
          "output_type": "stream",
          "name": "stderr",
          "text": [
            " 24%|██▍       | 24/100 [00:01<00:04, 16.42it/s]"
          ]
        },
        {
          "output_type": "stream",
          "name": "stdout",
          "text": [
            "Generated Song:\n",
            "\n",
            "\n",
            "Never gonna let you down never <unk> never <unk> to <unk> you you <unk> <unk> never <unk> <unk> never <unk> <unk> <unk> never you feeling <unk> <unk> <unk> <unk> <unk> <unk> never never never <unk> <unk> <unk> <unk> tell you down <unk> feeling you <unk> <unk> you down never <unk> <unk> tell you down never <unk> <unk> let you down never <unk> <unk> say goodbye never never you never <unk> <unk> make you down never <unk> <unk> say goodbye never <unk> <unk> tell you never <unk> <unk> you never you <unk> other for never <unk> never <unk> <unk> never but never <unk> shy <unk> you\n"
          ]
        },
        {
          "output_type": "stream",
          "name": "stderr",
          "text": [
            " 36%|███▌      | 36/100 [00:01<00:02, 23.69it/s]"
          ]
        },
        {
          "output_type": "stream",
          "name": "stdout",
          "text": [
            "Generated Song:\n",
            "\n",
            "\n",
            "Never gonna say goodbye never <unk> never <unk> to <unk> you you <unk> never make were <unk> never <unk> <unk> <unk> never you feeling <unk> never <unk> <unk> <unk> <unk> never other never <unk> <unk> <unk> <unk> tell you down im feeling <unk> <unk> <unk> you down never <unk> <unk> give you down never <unk> <unk> let you down never <unk> <unk> say goodbye never never you never <unk> <unk> make you down never <unk> <unk> say goodbye never <unk> <unk> tell you down <unk> <unk> you never known each other for never <unk> never <unk> <unk> never but youre too shy <unk> say\n"
          ]
        },
        {
          "output_type": "stream",
          "name": "stderr",
          "text": [
            " 45%|████▌     | 45/100 [00:02<00:02, 22.57it/s]"
          ]
        },
        {
          "output_type": "stream",
          "name": "stdout",
          "text": [
            "Generated Song:\n",
            "\n",
            "\n",
            "Never gonna say goodbye never known never <unk> to <unk> you you <unk> never make were <unk> never <unk> say <unk> you you feeling <unk> tell <unk> <unk> <unk> <unk> never other never <unk> <unk> <unk> <unk> tell you down im feeling <unk> <unk> <unk> you down never <unk> <unk> give you down never <unk> <unk> let you down never <unk> <unk> say goodbye never never you never <unk> <unk> make you down never <unk> <unk> say goodbye never <unk> <unk> tell you how <unk> <unk> you never known each other for never <unk> for <unk> been never but youre too shy <unk> say\n"
          ]
        },
        {
          "output_type": "stream",
          "name": "stderr",
          "text": [
            " 54%|█████▍    | 54/100 [00:02<00:01, 23.03it/s]"
          ]
        },
        {
          "output_type": "stream",
          "name": "stdout",
          "text": [
            "Generated Song:\n",
            "\n",
            "\n",
            "I just wanna tell you how Im feeling never known never <unk> to <unk> you know the rules make were <unk> never <unk> say <unk> you im thinking <unk> tell <unk> <unk> <unk> from never other guy <unk> <unk> <unk> <unk> tell you how im feeling <unk> <unk> <unk> you down never <unk> <unk> give you down never <unk> <unk> let you down never <unk> <unk> give goodbye never never you never <unk> <unk> make you down never <unk> <unk> say goodbye never <unk> <unk> tell you how <unk> <unk> you never known each other for never <unk> for <unk> been aching but youre too shy to say\n"
          ]
        },
        {
          "output_type": "stream",
          "name": "stderr",
          "text": [
            " 66%|██████▌   | 66/100 [00:03<00:01, 23.87it/s]"
          ]
        },
        {
          "output_type": "stream",
          "name": "stdout",
          "text": [
            "Generated Song:\n",
            "\n",
            "\n",
            "Never gonna run around and desert you never known no strangers to love you know the rules make were <unk> never a full <unk> you im thinking <unk> tell <unk> <unk> <unk> from any other guy i <unk> <unk> <unk> tell you how im feeling <unk> <unk> <unk> you down never <unk> <unk> give you up never <unk> <unk> let you down never <unk> <unk> give goodbye never never you never <unk> <unk> make you down never <unk> <unk> say goodbye never <unk> <unk> tell you lie <unk> <unk> you never known each other for never long for <unk> been aching but youre too shy to say\n"
          ]
        },
        {
          "output_type": "stream",
          "name": "stderr",
          "text": [
            " 75%|███████▌  | 75/100 [00:03<00:01, 23.76it/s]"
          ]
        },
        {
          "output_type": "stream",
          "name": "stdout",
          "text": [
            "Generated Song:\n",
            "\n",
            "\n",
            "Never gonna let you down never are no strangers to love you know the rules make were <unk> never a full commitments you im thinking <unk> tell <unk> <unk> this from any other guy i <unk> <unk> <unk> tell you how im feeling <unk> <unk> <unk> you down never <unk> <unk> give you up never <unk> <unk> let you down never <unk> <unk> give goodbye never never you never <unk> <unk> make you down never <unk> <unk> say goodbye never <unk> <unk> tell you lie <unk> <unk> you never known each other for never long for <unk> been aching but youre too shy to say\n"
          ]
        },
        {
          "output_type": "stream",
          "name": "stderr",
          "text": [
            " 84%|████████▍ | 84/100 [00:04<00:00, 22.22it/s]"
          ]
        },
        {
          "output_type": "stream",
          "name": "stdout",
          "text": [
            "Generated Song:\n",
            "\n",
            "\n",
            "Never gonna tell a lie and hurt you never are no strangers to love you know the rules make were <unk> never a full commitments what im thinking <unk> tell <unk> <unk> this from any other guy i <unk> to <unk> tell you how im feeling <unk> <unk> <unk> you understand never <unk> <unk> give you up never <unk> <unk> let you down never <unk> <unk> run goodbye never never you never <unk> <unk> make you understand never <unk> <unk> say goodbye never <unk> <unk> tell you lie and feeling you never known each other for so long for <unk> been aching but youre too shy to say\n"
          ]
        },
        {
          "output_type": "stream",
          "name": "stderr",
          "text": [
            " 96%|█████████▌| 96/100 [00:04<00:00, 21.42it/s]"
          ]
        },
        {
          "output_type": "stream",
          "name": "stdout",
          "text": [
            "Generated Song:\n",
            "\n",
            "\n",
            "Never gonna run around and desert you never are no strangers to love you know the rules strangers were <unk> never a full commitments what im thinking <unk> tell <unk> <unk> this from any other guy i <unk> to <unk> tell you how im feeling <unk> <unk> <unk> you understand never <unk> <unk> give you up never <unk> <unk> let you down never <unk> <unk> run goodbye never never you never <unk> <unk> make you understand never <unk> <unk> say goodbye never <unk> <unk> tell you lie and feeling you never known each other for so long for <unk> been aching but youre too shy to say\n"
          ]
        },
        {
          "output_type": "stream",
          "name": "stderr",
          "text": [
            "100%|██████████| 100/100 [00:04<00:00, 20.87it/s]\n"
          ]
        }
      ]
    },
    {
      "cell_type": "code",
      "source": [
        "CONTEXT_SIZE=8\n",
        "model_8 = NGramLanguageModeler(len(vocab), EMBEDDING_DIM, CONTEXT_SIZE).to(device)\n",
        "optimizer = optim.SGD(model_8.parameters(), lr=0.01)\n",
        "\n",
        "scheduler = torch.optim.lr_scheduler.StepLR(optimizer, 1.0, gamma=0.1)\n",
        "my_loss=train(dataloader,model_8,song)\n",
        "\n",
        "save_path = '8gram.pth'\n",
        "torch.save(model_8.state_dict(), save_path)\n",
        "\n",
        "my_loss_list.append(my_loss)"
      ],
      "metadata": {
        "colab": {
          "base_uri": "https://localhost:8080/"
        },
        "id": "hIFNJnm9JHNY",
        "outputId": "e89fd042-c31f-4b2c-d968-8b3a2fd4f9c7"
      },
      "execution_count": 60,
      "outputs": [
        {
          "output_type": "stream",
          "name": "stderr",
          "text": [
            "  4%|▍         | 4/100 [00:00<00:02, 32.44it/s]"
          ]
        },
        {
          "output_type": "stream",
          "name": "stdout",
          "text": [
            "Generated Song:\n",
            "\n",
            "\n",
            "Never gonna give you up <unk> <unk> <unk> <unk> <unk> tell <unk> <unk> <unk> <unk> <unk> <unk> <unk> <unk> <unk> <unk> <unk> <unk> <unk> <unk> <unk> <unk> <unk> <unk> <unk> <unk> <unk> <unk> <unk> <unk> <unk> <unk> <unk> <unk> <unk> to <unk> <unk> <unk> <unk> <unk> <unk> <unk> <unk> <unk> <unk> <unk> <unk> <unk> <unk> <unk> <unk> <unk> you <unk> <unk> <unk> <unk> <unk> <unk> <unk> <unk> <unk> <unk> <unk> <unk> <unk> <unk> <unk> <unk> <unk> <unk> <unk> give <unk> <unk> <unk> tell <unk> <unk> <unk> <unk> <unk> <unk> <unk> <unk> <unk> <unk> <unk> <unk> <unk> <unk> <unk> <unk> <unk> <unk> <unk> <unk> <unk> <unk>\n"
          ]
        },
        {
          "output_type": "stream",
          "name": "stderr",
          "text": [
            " 14%|█▍        | 14/100 [00:00<00:04, 20.27it/s]"
          ]
        },
        {
          "output_type": "stream",
          "name": "stdout",
          "text": [
            "Generated Song:\n",
            "\n",
            "\n",
            "Never gonna let you down <unk> tell <unk> give to tell you never the give <unk> <unk> <unk> give play <unk> make you im thinking <unk> <unk> give <unk> <unk> you <unk> give guy <unk> <unk> <unk> <unk> tell you you im <unk> <unk> <unk> give you you never <unk> <unk> give you up never <unk> <unk> give you you never <unk> <unk> give you you never <unk> tell <unk> <unk> make you you never <unk> <unk> give you you <unk> <unk> tell you lie never <unk> <unk> <unk> <unk> <unk> give you so <unk> give give <unk> give tell <unk> too give to give\n"
          ]
        },
        {
          "output_type": "stream",
          "name": "stderr",
          "text": [
            " 24%|██▍       | 24/100 [00:01<00:04, 16.30it/s]"
          ]
        },
        {
          "output_type": "stream",
          "name": "stdout",
          "text": [
            "Generated Song:\n",
            "\n",
            "\n",
            "I just wanna tell you how Im feeling <unk> tell to strangers to tell so im the rules <unk> <unk> <unk> never play <unk> make you im thinking <unk> <unk> give <unk> <unk> make <unk> give guy i <unk> shy <unk> give a to im feeling <unk> <unk> give you cry never <unk> <unk> give you up never <unk> <unk> give you cry never <unk> <unk> run around up never <unk> tell a <unk> make you cry never <unk> <unk> give you up never <unk> tell a lie never <unk> <unk> <unk> <unk> to other for so long give you to give tell im too shy to say\n"
          ]
        },
        {
          "output_type": "stream",
          "name": "stderr",
          "text": [
            " 37%|███▋      | 37/100 [00:01<00:02, 25.48it/s]"
          ]
        },
        {
          "output_type": "stream",
          "name": "stdout",
          "text": [
            "Generated Song:\n",
            "\n",
            "\n",
            "Never gonna give you up <unk> a for strangers to so so im the rules <unk> <unk> <unk> never play to make you im thinking <unk> <unk> give <unk> <unk> strangers <unk> make guy i <unk> shy <unk> give a to im feeling <unk> <unk> give you cry never <unk> <unk> give you up never <unk> <unk> give you cry never <unk> <unk> run around up never <unk> tell a <unk> make you cry never <unk> <unk> give you up never <unk> tell a lie never <unk> <unk> <unk> a to other for so long give around to i tell im too shy to say\n"
          ]
        },
        {
          "output_type": "stream",
          "name": "stderr",
          "text": [
            " 45%|████▌     | 45/100 [00:02<00:01, 29.90it/s]"
          ]
        },
        {
          "output_type": "stream",
          "name": "stdout",
          "text": [
            "Generated Song:\n",
            "\n",
            "\n",
            "Never gonna say goodbye <unk> a for strangers to so guy im the rules <unk> <unk> <unk> never play to make you im thinking <unk> <unk> rules <unk> <unk> strangers <unk> make guy i <unk> shy <unk> give a to im feeling <unk> <unk> give you cry never <unk> <unk> give you up never <unk> <unk> give you cry never <unk> <unk> run around up never <unk> tell a <unk> make you cry never <unk> <unk> give you up never <unk> tell a lie never <unk> <unk> <unk> a for other for so long give around to i tell im too shy to say\n"
          ]
        },
        {
          "output_type": "stream",
          "name": "stderr",
          "text": [
            " 53%|█████▎    | 53/100 [00:02<00:01, 27.39it/s]"
          ]
        },
        {
          "output_type": "stream",
          "name": "stdout",
          "text": [
            "Generated Song:\n",
            "\n",
            "\n",
            "Never gonna give you up <unk> a for strangers to so guy im the rules going <unk> long never play to make you im thinking <unk> <unk> rules <unk> <unk> strangers we make guy i <unk> shy <unk> give a to im feeling <unk> <unk> give you cry never <unk> <unk> give you up never <unk> <unk> give you cry never <unk> <unk> run around up never <unk> tell a <unk> make you cry never <unk> <unk> give you up never <unk> tell a lie never <unk> <unk> <unk> a for other for so long tell around to i tell im too shy to say\n"
          ]
        },
        {
          "output_type": "stream",
          "name": "stderr",
          "text": [
            " 65%|██████▌   | 65/100 [00:02<00:01, 24.73it/s]"
          ]
        },
        {
          "output_type": "stream",
          "name": "stdout",
          "text": [
            "Generated Song:\n",
            "\n",
            "\n",
            "A full commitments what Im thinking of <unk> a for strangers to so guy im the rules going <unk> long never play to make you im thinking <unk> <unk> rules <unk> <unk> strangers we make guy i <unk> shy <unk> give a to im feeling <unk> <unk> give you cry never <unk> <unk> give you up never <unk> <unk> give you cry never <unk> <unk> run around up never <unk> tell a <unk> make you cry never <unk> <unk> give you up never <unk> tell a lie never <unk> <unk> <unk> a for other for so long tell around to i tell im too shy to say\n"
          ]
        },
        {
          "output_type": "stream",
          "name": "stderr",
          "text": [
            " 74%|███████▍  | 74/100 [00:03<00:01, 24.58it/s]"
          ]
        },
        {
          "output_type": "stream",
          "name": "stdout",
          "text": [
            "Generated Song:\n",
            "\n",
            "\n",
            "I just wanna tell you how Im feeling <unk> a been strangers to so guy im the rules going <unk> long never play to make you im thinking <unk> <unk> rules <unk> <unk> strangers we make guy i <unk> shy <unk> give a to im feeling <unk> <unk> give you cry never <unk> <unk> give you up never <unk> <unk> run you cry never <unk> <unk> run around up never <unk> tell a <unk> make you cry never <unk> <unk> give you up never <unk> tell a lie never <unk> <unk> <unk> a for other for so long tell around to i tell im too shy to say\n"
          ]
        },
        {
          "output_type": "stream",
          "name": "stderr",
          "text": [
            " 86%|████████▌ | 86/100 [00:03<00:00, 25.82it/s]"
          ]
        },
        {
          "output_type": "stream",
          "name": "stdout",
          "text": [
            "Generated Song:\n",
            "\n",
            "\n",
            "I just wanna tell you how Im feeling <unk> a been strangers to so guy im the rules going <unk> long never play to make you im thinking <unk> <unk> rules <unk> <unk> strangers we make guy i <unk> shy <unk> give a to im feeling <unk> <unk> give you cry never <unk> <unk> give you up never <unk> <unk> run around cry never <unk> <unk> run around up never <unk> tell a <unk> make you cry never <unk> <unk> give you up never <unk> tell a lie never <unk> <unk> <unk> a for other for so long tell around to i tell im too shy to say\n"
          ]
        },
        {
          "output_type": "stream",
          "name": "stderr",
          "text": [
            " 95%|█████████▌| 95/100 [00:04<00:00, 22.91it/s]"
          ]
        },
        {
          "output_type": "stream",
          "name": "stdout",
          "text": [
            "Generated Song:\n",
            "\n",
            "\n",
            "Never gonna tell a lie and hurt you <unk> a been strangers to so guy im the rules going <unk> long never play to make you im thinking <unk> <unk> rules <unk> <unk> strangers we make guy i <unk> shy <unk> give a to im feeling <unk> <unk> give you cry never <unk> <unk> give you up never <unk> <unk> run around cry never <unk> <unk> run around up never <unk> tell a <unk> make you cry never <unk> <unk> give you up never <unk> tell a lie never <unk> <unk> <unk> a for other for so long tell around to i tell im too shy to say\n"
          ]
        },
        {
          "output_type": "stream",
          "name": "stderr",
          "text": [
            "100%|██████████| 100/100 [00:04<00:00, 23.36it/s]\n"
          ]
        }
      ]
    },
    {
      "cell_type": "code",
      "source": [
        "for (my_loss, model_name)in zip(my_loss_list,[\"2-gram\",\"4-gram\",\"8-gram\"]):\n",
        "    plt.plot(my_loss,label=\"Cross-entropy Loss - {}\".format(model_name))\n",
        "    plt.legend()"
      ],
      "metadata": {
        "colab": {
          "base_uri": "https://localhost:8080/",
          "height": 430
        },
        "id": "pxPe2h1DJfh7",
        "outputId": "cb657bf0-cd6a-47dd-d7cd-3fbd1305036f"
      },
      "execution_count": 63,
      "outputs": [
        {
          "output_type": "display_data",
          "data": {
            "text/plain": [
              "<Figure size 640x480 with 1 Axes>"
            ],
            "image/png": "[encoded data removed]"
          },
          "metadata": {}
        }
      ]
    },
    {
      "cell_type": "code",
      "source": [
        "for (my_loss, model_name)in zip(my_loss_list,[\"2-gram\",\"4-gram\",\"8-gram\"]):\n",
        "    # Calculate perplexity using the loss\n",
        "    perplexity = np.exp(my_loss)\n",
        "    plt.plot(perplexity,label=\"Perplexity - {}\".format(model_name))\n",
        "    plt.legend()"
      ],
      "metadata": {
        "colab": {
          "base_uri": "https://localhost:8080/",
          "height": 430
        },
        "id": "64w5qFk_JiFV",
        "outputId": "6c621cc7-c1f2-4dcd-aa7a-1a10229d6d27"
      },
      "execution_count": 64,
      "outputs": [
        {
          "output_type": "display_data",
          "data": {
            "text/plain": [
              "<Figure size 640x480 with 1 Axes>"
            ],
            "image/png": "[encoded data removed]"
          },
          "metadata": {}
        }
      ]
    }
  ]
}